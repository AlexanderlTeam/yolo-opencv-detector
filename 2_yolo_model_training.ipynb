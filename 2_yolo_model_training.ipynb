{
 "cells": [
  {
   "cell_type": "markdown",
   "metadata": {
    "id": "zQt-2rgprbrT"
   },
   "source": [
    "## Special Thanks to the **techzizou**!\n",
    "\n",
    "This notebook is based on the YOLOv4 training tutorial by Techzizou. My modifications focused on adapting it for training a model to be used within my custom OpenCV code.\n",
    "\n",
    "[Link to the Original Tutorial](https://medium.com/analytics-vidhya/train-a-custom-yolov4-tiny-object-detector-using-google-colab-b58be08c9593)"
   ]
  },
  {
   "cell_type": "markdown",
   "metadata": {
    "id": "y_ohotn_qybF"
   },
   "source": [
    "# **Prerequisites**:\n",
    "\n",
    "### First, generate the images and labels by following the instructions in the \"yolo_opencv_detector\" notebook.\n",
    "### Next, upload the \"yolov4-tiny\" folder to the root directory of your Google Drive.\n",
    "\n",
    "### After that, change the colab runtime to \"GPU\" by navigating to \"Runtime\" > \"Change runtime type\"\n"
   ]
  },
  {
   "cell_type": "code",
   "execution_count": null,
   "metadata": {
    "id": "sLELVfEKDnI_"
   },
   "outputs": [],
   "source": [
    "!git clone https://github.com/AlexeyAB/darknet"
   ]
  },
  {
   "cell_type": "code",
   "execution_count": null,
   "metadata": {
    "id": "UcHcVVfHRqx5"
   },
   "outputs": [],
   "source": [
    "%cd ..\n",
    "from google.colab import drive\n",
    "drive.mount('/content/gdrive')\n",
    "\n",
    "!ln -s /content/gdrive/My\\ Drive/ /mydrive"
   ]
  },
  {
   "cell_type": "code",
   "execution_count": null,
   "metadata": {
    "id": "fHdLgyNRqP1X"
   },
   "outputs": [],
   "source": [
    "!ls /mydrive/yolov4-tiny"
   ]
  },
  {
   "cell_type": "code",
   "execution_count": null,
   "metadata": {
    "id": "vRx_2ufLYKzq"
   },
   "outputs": [],
   "source": [
    "%cd /content/darknet/\n",
    "!sed -i 's/OPENCV=0/OPENCV=1/' Makefile\n",
    "!sed -i 's/GPU=0/GPU=1/' Makefile\n",
    "!sed -i 's/CUDNN=0/CUDNN=1/' Makefile\n",
    "!sed -i 's/CUDNN_HALF=0/CUDNN_HALF=1/' Makefile\n",
    "!sed -i 's/LIBSO=0/LIBSO=1/' Makefile"
   ]
  },
  {
   "cell_type": "code",
   "execution_count": null,
   "metadata": {
    "id": "YgWuHt3GK3Gz"
   },
   "outputs": [],
   "source": [
    "!make"
   ]
  },
  {
   "cell_type": "code",
   "execution_count": null,
   "metadata": {
    "id": "PJ12EpatuOdw"
   },
   "outputs": [],
   "source": [
    "%cd data/\n",
    "!find -maxdepth 1 -type f -exec rm -rf {} \\;\n",
    "%cd ..\n",
    "\n",
    "%rm -rf cfg/\n",
    "%mkdir cfg"
   ]
  },
  {
   "cell_type": "code",
   "execution_count": null,
   "metadata": {
    "id": "eUeBO88DuSdj"
   },
   "outputs": [],
   "source": [
    "!cp /mydrive/yolov4-tiny/obj.zip ../\n",
    "!unzip ../obj.zip -d data/\n",
    "\n",
    "!cp /mydrive/yolov4-tiny/yolov4-tiny-custom.cfg ./cfg\n",
    "!cp /mydrive/yolov4-tiny/obj.names ./data\n",
    "!cp /mydrive/yolov4-tiny/obj.data  ./data\n",
    "!cp /mydrive/yolov4-tiny/process.py ./"
   ]
  },
  {
   "cell_type": "code",
   "execution_count": null,
   "metadata": {
    "id": "N8JDSBpwusXn"
   },
   "outputs": [],
   "source": [
    "!python process.py"
   ]
  },
  {
   "cell_type": "code",
   "execution_count": null,
   "metadata": {
    "id": "omzY915VqWS8"
   },
   "outputs": [],
   "source": [
    "!ls data/"
   ]
  },
  {
   "cell_type": "code",
   "execution_count": null,
   "metadata": {
    "id": "6UMEVVjdutaz"
   },
   "outputs": [],
   "source": [
    "!wget https://github.com/AlexeyAB/darknet/releases/download/darknet_yolo_v4_pre/yolov4-tiny.conv.29"
   ]
  },
  {
   "cell_type": "code",
   "execution_count": null,
   "metadata": {
    "id": "iblRcnnSu1Uq"
   },
   "outputs": [],
   "source": [
    "!./darknet detector train data/obj.data cfg/yolov4-tiny-custom.cfg yolov4-tiny.conv.29 -dont_show"
   ]
  },
  {
   "cell_type": "markdown",
   "metadata": {},
   "source": [
    "### After finishing training the model, copy the weights file from the yolov4-tiny/training folder and the cfg file from the yolov4-tiny folder on your Google Drive to the same directory as the yolo_opencv_detector notebook. Then, continue with the next steps in that notebook."
   ]
  },
  {
   "cell_type": "code",
   "execution_count": null,
   "metadata": {
    "id": "IBNWlaXYu8eF"
   },
   "outputs": [],
   "source": [
    "# to restart training your custom detector where you left off(using the weights that were saved last)\n",
    "# !./darknet detector train data/obj.data cfg/yolov4-tiny-custom.cfg /mydrive/yolov4-tiny/training/yolov4-tiny-custom_last.weights -dont_show"
   ]
  }
 ],
 "metadata": {
  "accelerator": "GPU",
  "colab": {
   "gpuType": "T4",
   "provenance": []
  },
  "kernelspec": {
   "display_name": "Python 3 (ipykernel)",
   "language": "python",
   "name": "python3"
  },
  "language_info": {
   "codemirror_mode": {
    "name": "ipython",
    "version": 3
   },
   "file_extension": ".py",
   "mimetype": "text/x-python",
   "name": "python",
   "nbconvert_exporter": "python",
   "pygments_lexer": "ipython3",
   "version": "3.11.3"
  }
 },
 "nbformat": 4,
 "nbformat_minor": 1
}
