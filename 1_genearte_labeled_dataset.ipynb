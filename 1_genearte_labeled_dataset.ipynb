{
 "cells": [
  {
   "cell_type": "code",
   "execution_count": null,
   "id": "91800ec7",
   "metadata": {},
   "outputs": [],
   "source": [
    "import numpy as np\n",
    "import win32gui, win32ui, win32con\n",
    "from PIL import Image\n",
    "from time import sleep\n",
    "import cv2 as cv\n",
    "import os\n",
    "import random\n",
    "import shutil"
   ]
  },
  {
   "cell_type": "code",
   "execution_count": null,
   "id": "5f9c9c67",
   "metadata": {},
   "outputs": [],
   "source": [
    "class WindowCapture:\n",
    "    w = 0\n",
    "    h = 0\n",
    "    hwnd = None\n",
    "\n",
    "    def __init__(self, window_name):\n",
    "        self.hwnd = win32gui.FindWindow(None, window_name)\n",
    "        if not self.hwnd:\n",
    "            raise Exception('Window not found: {}'.format(window_name))\n",
    "\n",
    "        window_rect = win32gui.GetWindowRect(self.hwnd)\n",
    "        self.w = window_rect[2] - window_rect[0]\n",
    "        self.h = window_rect[3] - window_rect[1]\n",
    "\n",
    "    def get_screenshot(self):\n",
    "        wDC = win32gui.GetWindowDC(self.hwnd)\n",
    "        dcObj = win32ui.CreateDCFromHandle(wDC)\n",
    "        cDC = dcObj.CreateCompatibleDC()\n",
    "        dataBitMap = win32ui.CreateBitmap()\n",
    "        dataBitMap.CreateCompatibleBitmap(dcObj, self.w, self.h)\n",
    "        cDC.SelectObject(dataBitMap)\n",
    "        cDC.BitBlt((0, 0), (self.w, self.h), dcObj, (0, 0), win32con.SRCCOPY)\n",
    "\n",
    "        signedIntsArray = dataBitMap.GetBitmapBits(True)\n",
    "        img = np.fromstring(signedIntsArray, dtype='uint8')\n",
    "        img.shape = (self.h, self.w, 4)\n",
    "\n",
    "        dcObj.DeleteDC()\n",
    "        cDC.DeleteDC()\n",
    "        win32gui.ReleaseDC(self.hwnd, wDC)\n",
    "        win32gui.DeleteObject(dataBitMap.GetHandle())\n",
    "\n",
    "        img = img[...,:3]\n",
    "        img = np.ascontiguousarray(img) \n",
    "            \n",
    "        return img\n",
    "\n",
    "    def generate_image_dataset(self):\n",
    "        if not os.path.exists(\"images\"):\n",
    "            os.mkdir(\"images\")\n",
    "        while(True):\n",
    "            img = self.get_screenshot()\n",
    "            im = Image.fromarray(img[..., [2, 1, 0]])\n",
    "            im.save(f\"./images/img_{len(os.listdir('images'))}.jpeg\")\n",
    "            sleep(1)\n",
    "    \n",
    "    def get_window_size(self):\n",
    "        return (self.w, self.h)"
   ]
  },
  {
   "cell_type": "code",
   "execution_count": null,
   "id": "c4c4ac90",
   "metadata": {},
   "outputs": [],
   "source": [
    "class LabelUtils:\n",
    "\n",
    "    def create_shuffled_images_folder(self):\n",
    "        if not os.path.exists(\"shuffled_images\"):\n",
    "            os.mkdir(\"shuffled_images\")\n",
    "\n",
    "        image_files = [f for f in os.listdir(\"images\") if f.endswith(\".jpg\")]\n",
    "        random.shuffle(image_files)\n",
    "\n",
    "        for img in image_files:\n",
    "            os.rename(f\"images/{img}\", f\"shuffled_images/img_{len(os.listdir('shuffled_images'))}.jpg\")\n",
    "\n",
    "    def create_labeled_images_zip_file(self):\n",
    "        if not os.path.exists(\"obj\"):\n",
    "            os.mkdir(\"obj\")\n",
    "\n",
    "        file_prefixes = [f.split('.')[0] for f in os.listdir(\"shuffled_images\") if f.endswith(\".txt\")]\n",
    "\n",
    "        for prefix in file_prefixes:\n",
    "            os.rename(f\"shuffled_images/{prefix}.txt\", f\"obj/{prefix}.txt\")\n",
    "            os.rename(f\"shuffled_images/{prefix}.jpg\", f\"obj/{prefix}.jpg\")\n",
    "        \n",
    "        shutil.make_archive('yolov4-tiny/obj', 'zip', 'obj')"
   ]
  },
  {
   "cell_type": "code",
   "execution_count": null,
   "id": "5507d47c",
   "metadata": {},
   "outputs": [],
   "source": [
    "# Execute this cell to generate a dataset of images for the specified window.\n",
    "\n",
    "window_name = \"Diablo II\"\n",
    "\n",
    "wincap = WindowCapture(window_name)\n",
    "wincap.generate_image_dataset()"
   ]
  },
  {
   "cell_type": "code",
   "execution_count": null,
   "id": "0f917840",
   "metadata": {},
   "outputs": [],
   "source": [
    "# If you're not going to label all the generated images, make sure to shuffle them.\n",
    "# Shuffling helps ensure that you will cover a wide range of scenarios. \n",
    "# This avoids any bias towards specific patterns or sequences.\n",
    "\n",
    "# The function below shuffles the images in the images folder and inserts them into the shuffled_images folder.\n",
    "\n",
    "lbUtils = LabelUtils()\n",
    "lbUtils.create_shuffled_images_folder()"
   ]
  },
  {
   "cell_type": "code",
   "execution_count": null,
   "id": "2395f8b7",
   "metadata": {},
   "outputs": [],
   "source": [
    "# After creating the dataset (and shuffling the images), the next step is to label the images. \n",
    "# (I recommend using https://www.makesense.ai/ as demonstrated in the video). "
   ]
  },
  {
   "cell_type": "code",
   "execution_count": null,
   "id": "614caeba",
   "metadata": {},
   "outputs": [],
   "source": [
    "# Then, copy the .txt yolo label files into the \"shuffled_images\" folder and execute the following command\n",
    "# to generate a zip file with the images and labels inside the yolov4-tiny folder.\n",
    "\n",
    "lbUtils.create_labeled_images_zip_file()"
   ]
  },
  {
   "cell_type": "code",
   "execution_count": null,
   "id": "e39ea7af",
   "metadata": {},
   "outputs": [],
   "source": [
    "# Now, add the \"yolov4-tiny\" folder to the root directory of your Google Drive\n",
    "# and proceed to train the model using the \"yolo_model_training\" \n",
    "# notebook in Google Colab.\n",
    "\n",
    "# Ensure that the \"yolov4-tiny\" folder has the following structure and files:\n",
    "\n",
    "# yolov4-tiny/\n",
    "# ├── obj.data\n",
    "# ├── obj.names\n",
    "# ├── obj.zip\n",
    "# ├── process.py\n",
    "# ├── yolov4-tiny-custom.cfg\n",
    "# └── training/\n",
    "#     └── placeholder.txt"
   ]
  },
  {
   "cell_type": "code",
   "execution_count": null,
   "id": "8b04816e",
   "metadata": {},
   "outputs": [],
   "source": [
    "# After finishing training the model, copy the `.weights` file from the `yolov4-tiny/training` folder\n",
    "# and the `.cfg` file from the `yolov4-tiny` folder to the same directory as this notebook."
   ]
  },
  {
   "cell_type": "code",
   "execution_count": 3,
   "id": "8dd8871c",
   "metadata": {},
   "outputs": [
    {
     "name": "stderr",
     "output_type": "stream",
     "text": [
      "'zip' is not recognized as an internal or external command,\n",
      "operable program or batch file.\n"
     ]
    }
   ],
   "source": [
    "!zip -r obj.zip obj/"
   ]
  },
  {
   "cell_type": "code",
   "execution_count": 5,
   "id": "0516aa2f",
   "metadata": {},
   "outputs": [
    {
     "data": {
      "text/plain": [
       "'D:\\\\CHROME DOWNLOADS\\\\yolo-opencv-detector\\\\yolov4-tiny\\\\obj.zip'"
      ]
     },
     "execution_count": 5,
     "metadata": {},
     "output_type": "execute_result"
    }
   ],
   "source": [
    "\n"
   ]
  },
  {
   "cell_type": "code",
   "execution_count": null,
   "id": "2df277cb",
   "metadata": {},
   "outputs": [],
   "source": []
  }
 ],
 "metadata": {
  "kernelspec": {
   "display_name": "Python 3 (ipykernel)",
   "language": "python",
   "name": "python3"
  },
  "language_info": {
   "codemirror_mode": {
    "name": "ipython",
    "version": 3
   },
   "file_extension": ".py",
   "mimetype": "text/x-python",
   "name": "python",
   "nbconvert_exporter": "python",
   "pygments_lexer": "ipython3",
   "version": "3.11.3"
  }
 },
 "nbformat": 4,
 "nbformat_minor": 5
}
